{
  "nbformat": 4,
  "nbformat_minor": 0,
  "metadata": {
    "colab": {
      "provenance": [],
      "authorship_tag": "ABX9TyNzVKG2F5HI2+O9OlLWIJJB",
      "include_colab_link": true
    },
    "kernelspec": {
      "name": "python3",
      "display_name": "Python 3"
    },
    "language_info": {
      "name": "python"
    }
  },
  "cells": [
    {
      "cell_type": "markdown",
      "metadata": {
        "id": "view-in-github",
        "colab_type": "text"
      },
      "source": [
        "<a href=\"https://colab.research.google.com/github/iPy849/burger-king-BI/blob/main/Analysis.ipynb\" target=\"_parent\"><img src=\"https://colab.research.google.com/assets/colab-badge.svg\" alt=\"Open In Colab\"/></a>"
      ]
    },
    {
      "cell_type": "code",
      "execution_count": null,
      "metadata": {
        "colab": {
          "base_uri": "https://localhost:8080/"
        },
        "id": "AURjNyNPHecc",
        "outputId": "b97c0f02-44ce-4096-8075-0146ebe0337e"
      },
      "outputs": [
        {
          "output_type": "stream",
          "name": "stdout",
          "text": [
            "Datasets loaded!!!\n",
            "Burger king\n",
            "\n",
            "                 Item Category  Calories  Fat Calories  Fat (g)  \\\n",
            "0  Whopper® Sandwich  Burgers     660.0         360.0     40.0   \n",
            "\n",
            "   Saturated Fat (g)  Trans Fat (g)  Cholesterol (mg)  Sodium (mg)  \\\n",
            "0               12.0            1.5              90.0        980.0   \n",
            "\n",
            "   Total Carb (g)  Dietary Fiber (g)  Sugars (g)  Protein (g)  Weight Watchers  \n",
            "0            49.0                2.0        11.0         28.0            655.0  \n",
            "Nutritional value\n",
            "\n",
            "      Company   Category                   Product Per Serve Size  \\\n",
            "0  Pizza Hut  All Meals  Corn n Cheese (Personal)        143.5 g   \n",
            "\n",
            "   Energy (kCal)  Carbohydrates (g)  Protein (g)  Fiber (g)  Sugar (g)  \\\n",
            "0          432.6              65.64        17.91       3.85        0.0   \n",
            "\n",
            "   Total Fat (g)  Saturated Fat (g)  Trans Fat (g)  Cholesterol (mg)  \\\n",
            "0          10.93               5.14           0.16             16.19   \n",
            "\n",
            "   Sodium (mg)  \n",
            "0       499.72  \n"
          ]
        }
      ],
      "source": [
        "import pandas as pd\n",
        "\n",
        "bk_dataset = pd.read_csv('/content/burger-king-menu.csv')\n",
        "nutrition_dataset = pd.read_csv('/content/Nutrition_Value_Dataset.csv')\n",
        "\n",
        "print('Datasets loaded!!!')\n",
        "print('Burger king\\n',bk_dataset.head(n=1))\n",
        "print('Nutritional value\\n',nutrition_dataset.head(n=1))"
      ]
    }
  ]
}